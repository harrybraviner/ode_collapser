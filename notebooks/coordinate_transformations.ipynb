{
 "cells": [
  {
   "cell_type": "code",
   "execution_count": 2,
   "id": "379f735a-6ab8-49a1-9fb6-238c9823dd1d",
   "metadata": {},
   "outputs": [],
   "source": [
    "import numpy as np\n",
    "import matplotlib.pyplot as plt"
   ]
  },
  {
   "cell_type": "markdown",
   "id": "c030de03-2f84-4f4b-a20e-26ba989742f8",
   "metadata": {},
   "source": [
    "# Transformation - second derivatives primary\n",
    "\n",
    "This transformation is:\n",
    "\n",
    "$z_0 = (x_0 + ... + x_{N-1})/N$\n",
    "\n",
    "$z_{N-1} = x_{N-1} - x_0$\n",
    "\n",
    "$z_i = x_{i-1} -2 x_i + x_{i+1} \\, \\mathrm{for} \\, i = 1, 2, ..., N-2$"
   ]
  },
  {
   "cell_type": "code",
   "execution_count": 10,
   "id": "5f65b86d-e6ea-482e-a360-2c1f8f4f3da8",
   "metadata": {},
   "outputs": [],
   "source": [
    "N = 7\n",
    "A_x2z = np.zeros((N, N), dtype=np.float64)\n",
    "A_x2z[0, :] = 1/N  # z_0\n",
    "for i in range(1, N-1):  # z_1, ..., z_N-2\n",
    "    A_x2z[i, i-1] = +1.0\n",
    "    A_x2z[i, i  ] = -2.0\n",
    "    A_x2z[i, i+1] = +1.0\n",
    "A_x2z[-1, 0 ] = -1.0\n",
    "A_x2z[-1, -1] = +1.0"
   ]
  },
  {
   "cell_type": "code",
   "execution_count": 11,
   "id": "775e1816-185a-4f38-9729-302a90da0570",
   "metadata": {},
   "outputs": [
    {
     "data": {
      "text/plain": [
       "array([[ 0.14285714,  0.14285714,  0.14285714,  0.14285714,  0.14285714,\n",
       "         0.14285714,  0.14285714],\n",
       "       [ 1.        , -2.        ,  1.        ,  0.        ,  0.        ,\n",
       "         0.        ,  0.        ],\n",
       "       [ 0.        ,  1.        , -2.        ,  1.        ,  0.        ,\n",
       "         0.        ,  0.        ],\n",
       "       [ 0.        ,  0.        ,  1.        , -2.        ,  1.        ,\n",
       "         0.        ,  0.        ],\n",
       "       [ 0.        ,  0.        ,  0.        ,  1.        , -2.        ,\n",
       "         1.        ,  0.        ],\n",
       "       [ 0.        ,  0.        ,  0.        ,  0.        ,  1.        ,\n",
       "        -2.        ,  1.        ],\n",
       "       [-1.        ,  0.        ,  0.        ,  0.        ,  0.        ,\n",
       "         0.        ,  1.        ]])"
      ]
     },
     "execution_count": 11,
     "metadata": {},
     "output_type": "execute_result"
    }
   ],
   "source": [
    "A_x2z"
   ]
  },
  {
   "cell_type": "code",
   "execution_count": 12,
   "id": "d3d358b3-d63a-4d5d-9fb0-2a4029f40918",
   "metadata": {},
   "outputs": [
    {
     "data": {
      "text/plain": [
       "array([[ 1.00000000e+00,  3.57142857e-01,  5.71428571e-01,\n",
       "         6.42857143e-01,  5.71428571e-01,  3.57142857e-01,\n",
       "        -5.00000000e-01],\n",
       "       [ 1.00000000e+00, -4.76190476e-01, -9.52380952e-02,\n",
       "         1.42857143e-01,  2.38095238e-01,  1.90476190e-01,\n",
       "        -3.33333333e-01],\n",
       "       [ 1.00000000e+00, -3.09523810e-01, -7.61904762e-01,\n",
       "        -3.57142857e-01, -9.52380952e-02,  2.38095238e-02,\n",
       "        -1.66666667e-01],\n",
       "       [ 1.00000000e+00, -1.42857143e-01, -4.28571429e-01,\n",
       "        -8.57142857e-01, -4.28571429e-01, -1.42857143e-01,\n",
       "         4.16333634e-17],\n",
       "       [ 1.00000000e+00,  2.38095238e-02, -9.52380952e-02,\n",
       "        -3.57142857e-01, -7.61904762e-01, -3.09523810e-01,\n",
       "         1.66666667e-01],\n",
       "       [ 1.00000000e+00,  1.90476190e-01,  2.38095238e-01,\n",
       "         1.42857143e-01, -9.52380952e-02, -4.76190476e-01,\n",
       "         3.33333333e-01],\n",
       "       [ 1.00000000e+00,  3.57142857e-01,  5.71428571e-01,\n",
       "         6.42857143e-01,  5.71428571e-01,  3.57142857e-01,\n",
       "         5.00000000e-01]])"
      ]
     },
     "execution_count": 12,
     "metadata": {},
     "output_type": "execute_result"
    }
   ],
   "source": [
    "np.linalg.inv(A_x2z)"
   ]
  },
  {
   "cell_type": "markdown",
   "id": "fb06f168-e3de-4b48-b749-75291eada036",
   "metadata": {},
   "source": [
    "# Transformation - first derivatives primary\n",
    "\n",
    "This transformation is:\n",
    "\n",
    "$z_0 = x_0$\n",
    "\n",
    "$z_i = z_i - z_{i-1} \\, \\mathrm{for} \\, i \\ge 1$"
   ]
  },
  {
   "cell_type": "code",
   "execution_count": 24,
   "id": "af7e4744-4cb0-4d19-b128-1efa73a33086",
   "metadata": {},
   "outputs": [],
   "source": [
    "# Manually computing matrix of second derivatives (and ignoring h^{-4} factor) produces this:\n",
    "N = 5\n",
    "second_deriv_mat = np.zeros((N, N), dtype=np.float64)\n",
    "\n",
    "second_deriv_mat[1, 1] = +1.0\n",
    "second_deriv_mat[1, 2] = -1.0\n",
    "for i in range(2, N-1):\n",
    "    second_deriv_mat[i, i-1] = -1\n",
    "    second_deriv_mat[i, i  ] = +2\n",
    "    second_deriv_mat[i, i+1] = -1\n",
    "second_deriv_mat[N-1, N-2] = -1\n",
    "second_deriv_mat[N-1, N-1] = +1"
   ]
  },
  {
   "cell_type": "code",
   "execution_count": 25,
   "id": "95df56f6-bc52-454d-842d-2527d6f8dc39",
   "metadata": {},
   "outputs": [
    {
     "data": {
      "text/plain": [
       "array([[ 0.,  0.,  0.,  0.,  0.],\n",
       "       [ 0.,  1., -1.,  0.,  0.],\n",
       "       [ 0., -1.,  2., -1.,  0.],\n",
       "       [ 0.,  0., -1.,  2., -1.],\n",
       "       [ 0.,  0.,  0., -1.,  1.]])"
      ]
     },
     "execution_count": 25,
     "metadata": {},
     "output_type": "execute_result"
    }
   ],
   "source": [
    "second_deriv_mat"
   ]
  },
  {
   "cell_type": "code",
   "execution_count": 26,
   "id": "20743adc-b6dc-4348-9e50-75a83e44e75f",
   "metadata": {},
   "outputs": [
    {
     "data": {
      "text/plain": [
       "EighResult(eigenvalues=array([-9.74614466e-17,  0.00000000e+00,  5.85786438e-01,  2.00000000e+00,\n",
       "        3.41421356e+00]), eigenvectors=array([[ 0.        ,  1.        ,  0.        ,  0.        ,  0.        ],\n",
       "       [-0.5       ,  0.        ,  0.65328148,  0.5       , -0.27059805],\n",
       "       [-0.5       ,  0.        ,  0.27059805, -0.5       ,  0.65328148],\n",
       "       [-0.5       ,  0.        , -0.27059805, -0.5       , -0.65328148],\n",
       "       [-0.5       ,  0.        , -0.65328148,  0.5       ,  0.27059805]]))"
      ]
     },
     "execution_count": 26,
     "metadata": {},
     "output_type": "execute_result"
    }
   ],
   "source": [
    "np.linalg.eigh(second_deriv_mat)"
   ]
  },
  {
   "cell_type": "code",
   "execution_count": 30,
   "id": "a08214ba-0ded-43f0-a421-3a802c30301f",
   "metadata": {},
   "outputs": [
    {
     "name": "stdout",
     "output_type": "stream",
     "text": [
      "5.828427124746188\n"
     ]
    }
   ],
   "source": [
    "evals_sorted = sorted(list(np.linalg.eigvalsh(second_deriv_mat)))\n",
    "ratio_non_zeros = evals_sorted[-1] / evals_sorted[2]\n",
    "print(ratio_non_zeros)"
   ]
  },
  {
   "cell_type": "code",
   "execution_count": 31,
   "id": "c5b60196-3c2b-4cd5-a921-ea8150b0a702",
   "metadata": {},
   "outputs": [
    {
     "data": {
      "text/plain": [
       "Text(0.5, 0, 'N')"
      ]
     },
     "execution_count": 31,
     "metadata": {},
     "output_type": "execute_result"
    },
    {
     "data": {
      "image/png": "[encoded data removed]",
      "text/plain": [
       "<Figure size 640x480 with 1 Axes>"
      ]
     },
     "metadata": {},
     "output_type": "display_data"
    }
   ],
   "source": [
    "N_vals = [5, 10, 20, 30, 50, 100, 150, 200, 300, 500]\n",
    "ratios = []\n",
    "for N in N_vals:\n",
    "    second_deriv_mat = np.zeros((N, N), dtype=np.float64)\n",
    "\n",
    "    second_deriv_mat[1, 1] = +1.0\n",
    "    second_deriv_mat[1, 2] = -1.0\n",
    "    for i in range(2, N-1):\n",
    "        second_deriv_mat[i, i-1] = -1\n",
    "        second_deriv_mat[i, i  ] = +2\n",
    "        second_deriv_mat[i, i+1] = -1\n",
    "    second_deriv_mat[N-1, N-2] = -1\n",
    "    second_deriv_mat[N-1, N-1] = +1\n",
    "\n",
    "    evals_sorted = sorted(list(np.linalg.eigvalsh(second_deriv_mat)))\n",
    "    ratio_non_zeros = evals_sorted[-1] / evals_sorted[2]\n",
    "    ratios.append(ratio_non_zeros)\n",
    "\n",
    "fig, ax = plt.subplots()\n",
    "ax.plot(N_vals, ratios, ls='none', marker='o', color='tab:red')\n",
    "ax.set_xlabel('N')"
   ]
  },
  {
   "cell_type": "code",
   "execution_count": 3,
   "id": "37349664-af95-45b0-a93d-a34b858267f3",
   "metadata": {},
   "outputs": [
    {
     "data": {
      "image/png": "[encoded data removed]",
      "text/plain": [
       "<Figure size 640x480 with 1 Axes>"
      ]
     },
     "metadata": {},
     "output_type": "display_data"
    }
   ],
   "source": [
    "# Compare to the values for the original equations\n",
    "N_vals = [5, 10, 20, 30, 50, 100, 150, 200, 300, 500, 1000, 2000, 3000, 5000]\n",
    "ratios = []\n",
    "ratios_no_transformation = []\n",
    "for N in N_vals:\n",
    "    second_deriv_mat = np.zeros((N, N), dtype=np.float64)\n",
    "\n",
    "    second_deriv_mat[1, 1] = +1.0\n",
    "    second_deriv_mat[1, 2] = -1.0\n",
    "    for i in range(2, N-1):\n",
    "        second_deriv_mat[i, i-1] = -1\n",
    "        second_deriv_mat[i, i  ] = +2\n",
    "        second_deriv_mat[i, i+1] = -1\n",
    "    second_deriv_mat[N-1, N-2] = -1\n",
    "    second_deriv_mat[N-1, N-1] = +1\n",
    "\n",
    "    evals_sorted = sorted(list(np.linalg.eigvalsh(second_deriv_mat)))\n",
    "    ratio_non_zeros = evals_sorted[-1] / evals_sorted[2]\n",
    "    ratios.append(ratio_non_zeros)\n",
    "\n",
    "    # Eigenvalues for untransformed system\n",
    "    def get_evals(n):\n",
    "        A = np.zeros((n, n))\n",
    "        for i in range(2, n-2):\n",
    "            A[i, i-2] = 0.5\n",
    "            A[i, i-1] = -2\n",
    "            A[i, i] = 3\n",
    "            A[i, i+1] = -2\n",
    "            A[i, i+2] = 0.5\n",
    "        # First row\n",
    "        A[0, 0] = 0.5\n",
    "        A[0, 1] = -1\n",
    "        A[0, 2] = 0.5\n",
    "        # Second row\n",
    "        A[1, 0] = -1\n",
    "        A[1, 1] = 5/2\n",
    "        A[1, 2] = -2\n",
    "        A[1, 3] = 0.5\n",
    "        # Second from last row\n",
    "        A[n-2, n-4] = 0.5\n",
    "        A[n-2, n-3] = -2\n",
    "        A[n-2, n-2] = 5/2\n",
    "        A[n-2, n-1] = -1\n",
    "        # Last row\n",
    "        A[n-1, n-3] = 0.5\n",
    "        A[n-1, n-2] = -1\n",
    "        A[n-1, n-1] = 0.5\n",
    "    \n",
    "        return np.linalg.eigh(A)\n",
    "    evals_orig_sorted = sorted(list(get_evals(N)[0]))\n",
    "    ratios_no_transformation.append(evals_orig_sorted[-1] / evals_orig_sorted[2])\n",
    "\n",
    "fig, ax = plt.subplots()\n",
    "ax.plot(N_vals, ratios, ls='none', marker='o', color='tab:red')\n",
    "ax.plot(N_vals, ratios_no_transformation, ls='none', marker='X', color='tab:green')\n",
    "ax.set_xlabel('N')\n",
    "ax.set_yscale('log')"
   ]
  },
  {
   "cell_type": "code",
   "execution_count": 9,
   "id": "dc8c1971-aac9-496a-96b3-ea54d2bfa25e",
   "metadata": {},
   "outputs": [
    {
     "data": {
      "image/png": "[encoded data removed]",
      "text/plain": [
       "<Figure size 640x480 with 1 Axes>"
      ]
     },
     "metadata": {},
     "output_type": "display_data"
    }
   ],
   "source": [
    "fig, ax = plt.subplots()\n",
    "ax.plot(N_vals, ratios, ls='none', marker='o', color='tab:red', label='w.r.t. z')\n",
    "ax.plot(N_vals, ratios_no_transformation, ls='none', marker='X', color='tab:green', label='w.r.t. x')\n",
    "ax.set_xlabel('N')\n",
    "ax.set_yscale('log')\n",
    "ax.set_ylabel('Condition number')\n",
    "ax.legend()\n",
    "fig.savefig('condition_numbers.png')"
   ]
  },
  {
   "cell_type": "code",
   "execution_count": 4,
   "id": "e63572c6-8367-4c70-9da6-b31379a384bb",
   "metadata": {},
   "outputs": [
    {
     "data": {
      "text/plain": [
       "np.float64(3194461.1306211515)"
      ]
     },
     "execution_count": 4,
     "metadata": {},
     "output_type": "execute_result"
    }
   ],
   "source": [
    "ratios_no_transformation[5]"
   ]
  },
  {
   "cell_type": "code",
   "execution_count": 5,
   "id": "e6422d88-1a37-43a5-8891-77058cf7c577",
   "metadata": {},
   "outputs": [
    {
     "data": {
      "text/plain": [
       "np.float64(3971.5290336324047)"
      ]
     },
     "execution_count": 5,
     "metadata": {},
     "output_type": "execute_result"
    }
   ],
   "source": [
    "ratios[5]"
   ]
  },
  {
   "cell_type": "code",
   "execution_count": null,
   "id": "8851979e-56bf-4ad2-8627-53d40f1b7fca",
   "metadata": {},
   "outputs": [],
   "source": []
  }
 ],
 "metadata": {
  "kernelspec": {
   "display_name": "Python 3 (ipykernel)",
   "language": "python",
   "name": "python3"
  },
  "language_info": {
   "codemirror_mode": {
    "name": "ipython",
    "version": 3
   },
   "file_extension": ".py",
   "mimetype": "text/x-python",
   "name": "python",
   "nbconvert_exporter": "python",
   "pygments_lexer": "ipython3",
   "version": "3.11.2"
  }
 },
 "nbformat": 4,
 "nbformat_minor": 5
}
