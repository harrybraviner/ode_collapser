{
 "cells": [
  {
   "cell_type": "code",
   "execution_count": null,
   "id": "0007495b-3cf0-4fee-a0d7-6ce1a4eea7d4",
   "metadata": {},
   "outputs": [],
   "source": [
    "import numpy as np\n",
    "import scipy.integrate as integrate\n",
    "import matplotlib.pyplot as plt\n",
    "import matplotlib\n",
    "from tqdm.auto import tqdm"
   ]
  },
  {
   "cell_type": "code",
   "execution_count": null,
   "id": "0bd519bb-ef18-4cde-a46d-66e892705990",
   "metadata": {},
   "outputs": [],
   "source": [
    "# For SciPy's ODE integrator.\n",
    "# We don't supply the Jacobian, since it's not defined.\n",
    "def f(t, y):\n",
    "    return np.array([\n",
    "        y[1],  # dx/dt\n",
    "        -np.sign(y[0]),  # d2x/dt2\n",
    "    ])"
   ]
  },
  {
   "cell_type": "markdown",
   "id": "d1f28d2b-3e08-43fb-8cd8-b868c65ff8cb",
   "metadata": {},
   "source": [
    "# Plot solutions for the silly oscillator\n",
    "\n",
    "Produce a few plots of solutions to\n",
    "$$\n",
    "\\ddot{x} = -\\mathrm{sign} (x)\n",
    "$$"
   ]
  },
  {
   "cell_type": "code",
   "execution_count": null,
   "id": "a8dbc0e0-7b47-4a96-b97c-f80329f557da",
   "metadata": {},
   "outputs": [],
   "source": [
    "fig, ax = plt.subplots(figsize=(6, 3))\n",
    "\n",
    "ax.plot([0.0, t_end], [0.0, 0.0], ls='--', color='tab:gray', alpha=0.5)\n",
    "\n",
    "t_end = 1.2\n",
    "t_grid = np.linspace(0.0, t_end, 100)\n",
    "\n",
    "v0s = [0.65, 0.5, 0.35, 0.25, 0.2]\n",
    "cmap = matplotlib.colormaps['pink']\n",
    "colors = cmap(np.linspace(0, 0.5, len(v0s)))\n",
    "for v0, c in zip(v0s, colors):\n",
    "    ode_integrator = integrate.ode(f)\n",
    "    ode_integrator.set_initial_value(np.array([0, v0]))\n",
    "    x_grid = np.zeros_like(t_grid)\n",
    "    for i, t in enumerate(t_grid[1:]):\n",
    "        x_grid[i+1] = ode_integrator.integrate(t)[0]\n",
    "    ax.plot(t_grid, x_grid, label=f'v(0)={v0:.2f}', ls='-', marker='none', color=c)\n",
    "\n",
    "ax.plot([0.0, 1.0], [0.0, 0.0], ls='none', marker='o', color='tab:orange', label='Samples')\n",
    "\n",
    "ax.set_xlim(left=0.0, right=t_end)\n",
    "ax.set_xlabel('t')\n",
    "ax.set_ylabel('x(t)')\n",
    "ax.legend()\n",
    "\n",
    "fig.savefig('./silly_oscillator_solns.png', bbox_inches='tight')\n",
    "plt.show()"
   ]
  },
  {
   "cell_type": "markdown",
   "id": "7aa823e0-d666-429a-b493-fec2f3203832",
   "metadata": {},
   "source": [
    "# Countour plot of $L_{\\mathrm{data}}$"
   ]
  },
  {
   "cell_type": "code",
   "execution_count": null,
   "id": "0a9dbbf7-bae4-4012-80bf-98aa4564a818",
   "metadata": {},
   "outputs": [],
   "source": [
    "x0 = np.linspace(-.25, +.25, 1001)\n",
    "v0 = np.linspace(-0.7, +0.7, 501)\n",
    "\n",
    "X, V = np.meshgrid(x0, v0)"
   ]
  },
  {
   "cell_type": "code",
   "execution_count": null,
   "id": "c138edc9-fa58-40e5-8ab2-0ca7e5f8d4ba",
   "metadata": {},
   "outputs": [],
   "source": [
    "L = np.zeros_like(X)\n",
    "\n",
    "for i in tqdm(range(X.shape[0]), leave=True):\n",
    "    for j in range(X.shape[1]):\n",
    "        ode_integrator = integrate.ode(f)\n",
    "        ode_integrator.set_initial_value(np.array([X[i, j], V[i, j]]))\n",
    "        x1 = ode_integrator.integrate(1)[0]\n",
    "\n",
    "        loss = 0.25 * (X[i, j]**2 + x1**2)\n",
    "        L[i, j] = loss"
   ]
  },
  {
   "cell_type": "code",
   "execution_count": null,
   "id": "4d8e2e24-25ee-42fb-9cac-73d8c19716d6",
   "metadata": {},
   "outputs": [],
   "source": [
    "fig, ax = plt.subplots(figsize=(6, 3))\n",
    "\n",
    "levels = [1e-5, 2e-5, 3e-5, 1e-4, 2e-4, 3e-4, 1e-3, .01, .02, .03, .1]\n",
    "colors = matplotlib.colormaps['autumn'](np.linspace(0.2, 0.8, len(levels)))\n",
    "\n",
    "ax.contour(V, X, L, levels=levels, colors=colors, linewidths=0.5)\n",
    "ax.set_ylabel('x(0)')\n",
    "ax.set_xlabel('v(0)')\n",
    "\n",
    "ax.plot([0.5, -0.5, .25, -.25, 1/6, -1/6, 1/8, -1/8], [0.0 for _ in range(8)], ls='none', marker='x',\n",
    "        color='red')\n",
    "\n",
    "ax.set_aspect(1.0)\n",
    "\n",
    "fig.savefig('./Ldata_contours.png')\n",
    "plt.show()"
   ]
  },
  {
   "cell_type": "code",
   "execution_count": null,
   "id": "34822cb9-b28c-45f0-a594-fbeb0cb00d0c",
   "metadata": {},
   "outputs": [],
   "source": []
  }
 ],
 "metadata": {
  "kernelspec": {
   "display_name": "Python 3 (ipykernel)",
   "language": "python",
   "name": "python3"
  },
  "language_info": {
   "codemirror_mode": {
    "name": "ipython",
    "version": 3
   },
   "file_extension": ".py",
   "mimetype": "text/x-python",
   "name": "python",
   "nbconvert_exporter": "python",
   "pygments_lexer": "ipython3",
   "version": "3.11.2"
  }
 },
 "nbformat": 4,
 "nbformat_minor": 5
}
