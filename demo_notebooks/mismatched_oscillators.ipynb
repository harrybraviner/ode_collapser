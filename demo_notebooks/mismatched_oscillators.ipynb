{
 "cells": [
  {
   "cell_type": "code",
   "execution_count": null,
   "id": "34a720f6-1ed5-47e7-a9eb-95458f74cba1",
   "metadata": {},
   "outputs": [],
   "source": [
    "import numpy as np\n",
    "import matplotlib.pyplot as plt\n",
    "import sys\n",
    "sys.path.append('../')\n",
    "import zoo_of_odes\n",
    "import ode_collapser"
   ]
  },
  {
   "cell_type": "code",
   "execution_count": null,
   "id": "24772412-b0ad-4c45-8791-ad9f73833bd1",
   "metadata": {},
   "outputs": [],
   "source": [
    "h = 0.01  # Grid resolution\n",
    "rng_seed_data = 123  # Used for data generation\n",
    "sigma = 0.1  # Noise level for data generation\n",
    "N_samples = 10  # Number of datapoints to 'measure' from the 'true' curve\n",
    "omega = 2*np.pi*5"
   ]
  },
  {
   "cell_type": "code",
   "execution_count": null,
   "id": "0a26ce19-eebd-46cf-9a95-e14aec18cd26",
   "metadata": {},
   "outputs": [],
   "source": [
    "t_grid = np.arange(0, 1, h)\n",
    "N_grid = t_grid.shape[0]\n",
    "\n",
    "x_left = np.sin(omega*t_grid)\n",
    "x_right = np.cos(omega*t_grid)\n",
    "\n",
    "rng = np.random.RandomState(rng_seed_data)\n",
    "idx_left = rng.choice(int(N_grid*0.2), 5, replace=False)\n",
    "idx_left = np.sort(idx_left)\n",
    "idx_right = rng.choice(int(N_grid*0.2), 5, replace=False) + int(0.8*N_grid)\n",
    "idx_right = np.sort(idx_right)\n",
    "\n",
    "idx_samples = np.array(list(idx_left) + list(idx_right))\n",
    "t_samples = t_grid[idx_samples]\n",
    "x_samples = np.where(t_samples < 0.5, x_left[idx_samples], x_right[idx_samples])\n",
    "\n",
    "# Plot the generated data\n",
    "fig, ax = plt.subplots()\n",
    "ax.plot(t_grid, x_left, ls='dotted', marker='none', color='tab:gray')\n",
    "ax.plot(t_grid, x_right, ls='dotted', marker='none', color='black')\n",
    "ax.plot(t_samples, x_samples, ls='none', marker='o', color='tab:orange', alpha=0.7, label='Samples / measurements')\n",
    "ax.set_xlim(left=t_grid[0], right=t_grid[-1])\n",
    "ax.set_xlabel('t')\n",
    "ax.set_ylabel('x(t)')\n",
    "\n",
    "plt.show()"
   ]
  },
  {
   "cell_type": "code",
   "execution_count": null,
   "id": "4185fb10-0bd6-4c6c-8a87-a96d52df9d99",
   "metadata": {},
   "outputs": [],
   "source": [
    "collapser_results = ode_collapser.collapse_to_solution(\n",
    "    rhs=zoo_of_odes.get_rhs_func('damped_harmonic_oscillator', {'omega': omega, 'nu': 0.0}),\n",
    "    h=h,\n",
    "    t_start=0.0,\n",
    "    t_end=1.0,\n",
    "    idx_samples=idx_samples,\n",
    "    x_samples=x_samples,\n",
    "    show_progress=True,\n",
    ")"
   ]
  },
  {
   "cell_type": "code",
   "execution_count": null,
   "id": "e470540a-b3e6-484a-9f83-310e9d141d8e",
   "metadata": {},
   "outputs": [],
   "source": [
    "# Plot the fitted x(t)\n",
    "fig, ax = plt.subplots(figsize=(6, 3))\n",
    "ax.plot(t_grid, x_left, ls='dotted', marker='none', color='tab:gray')\n",
    "ax.plot(t_grid, x_right, ls='dotted', marker='none', color='black')\n",
    "ax.plot(t_samples, x_samples, ls='none', marker='o', color='tab:orange', alpha=0.7, label='Samples / measurements')\n",
    "ax.plot(t_grid, collapser_results['x_solution_grid'], ls='--', marker='none', color='tab:green', label='Optimization result solution')\n",
    "ax.set_xlim(left=t_grid[0], right=t_grid[-1])\n",
    "ax.set_xlabel('t')\n",
    "ax.set_ylabel('x(t)')\n",
    "ax.legend()\n",
    "\n",
    "plt.show()\n",
    "fig.savefig('./mismatched_oscillators.png')"
   ]
  },
  {
   "cell_type": "code",
   "execution_count": null,
   "id": "62a20465-e7a6-4561-8141-29a6cae48148",
   "metadata": {},
   "outputs": [],
   "source": []
  }
 ],
 "metadata": {
  "kernelspec": {
   "display_name": "Python 3 (ipykernel)",
   "language": "python",
   "name": "python3"
  },
  "language_info": {
   "codemirror_mode": {
    "name": "ipython",
    "version": 3
   },
   "file_extension": ".py",
   "mimetype": "text/x-python",
   "name": "python",
   "nbconvert_exporter": "python",
   "pygments_lexer": "ipython3",
   "version": "3.11.2"
  }
 },
 "nbformat": 4,
 "nbformat_minor": 5
}
